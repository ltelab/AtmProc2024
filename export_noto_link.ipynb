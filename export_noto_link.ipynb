{
 "cells": [
  {
   "cell_type": "code",
   "execution_count": 1,
   "id": "013d04c7-c17c-4e01-8b06-8fa91adac069",
   "metadata": {
    "tags": []
   },
   "outputs": [],
   "source": [
    "from nbgitpuller_link import Link"
   ]
  },
  {
   "cell_type": "code",
   "execution_count": 2,
   "id": "d1bac7e1-d7fb-4cec-b4b1-c6a5eb3f24c4",
   "metadata": {
    "tags": []
   },
   "outputs": [],
   "source": [
    "git_https_url = \"https://github.com/ltelab/AtmProc2024\"\n",
    "dict_notebooks = {\"Exercise\": \"Exercise_2/Exercise_2.ipynb\",\n",
    "                  \"Installing_libraries\": \"install_python_environment.ipynb\"\n",
    "                 }"
   ]
  },
  {
   "cell_type": "code",
   "execution_count": 3,
   "id": "6e9acdc1-e51f-4328-9157-25915818f937",
   "metadata": {
    "tags": []
   },
   "outputs": [],
   "source": [
    "# Creation of the link\n",
    "dict_noto_link = {}\n",
    "for key, path_to_notebook in dict_notebooks.items():\n",
    "    # Retrieve basic url \n",
    "    linker = Link(\n",
    "        jupyterhub_url = \"https://noto.epfl.ch\",\n",
    "        branch = \"main\",\n",
    "        interface = \"lab\",\n",
    "        repository_url = git_https_url,\n",
    "        launch_path = path_to_notebook,\n",
    "        )\n",
    "    # Set cloning depth to 1\n",
    "    url = linker.link + \"&depth=1\"\n",
    "    \n",
    "    # Add url to dictionary \n",
    "    dict_noto_link[key] = url"
   ]
  },
  {
   "cell_type": "code",
   "execution_count": 4,
   "id": "b56f5e85-59ae-401e-a679-add2160a62d1",
   "metadata": {
    "tags": []
   },
   "outputs": [
    {
     "name": "stdout",
     "output_type": "stream",
     "text": [
      "{'Exercise': 'https://noto.epfl.ch/hub/user-redirect/git-pull?repo=https%3A%2F%2Fgithub.com%2Fltelab%2FAtmProc2023&urlpath=lab%2Ftree%2FAtmProc2023%2FExercise_radar%2FExercise_radar.ipynb%3Fautodecode&branch=main&depth=1', 'Installing_libraries': 'https://noto.epfl.ch/hub/user-redirect/git-pull?repo=https%3A%2F%2Fgithub.com%2Fltelab%2FAtmProc2023&urlpath=lab%2Ftree%2FAtmProc2023%2Finstall_python_environment.ipynb%3Fautodecode&branch=main&depth=1'}\n"
     ]
    }
   ],
   "source": [
    "# Display of the link\n",
    "print(dict_noto_link)"
   ]
  },
  {
   "cell_type": "code",
   "execution_count": null,
   "id": "5655aff8-6224-47c4-aae8-ea7f21d330ef",
   "metadata": {},
   "outputs": [],
   "source": []
  }
 ],
 "metadata": {
  "kernelspec": {
   "display_name": "Python3",
   "language": "python",
   "name": "python3"
  },
  "language_info": {
   "codemirror_mode": {
    "name": "ipython",
    "version": 3
   },
   "file_extension": ".py",
   "mimetype": "text/x-python",
   "name": "python",
   "nbconvert_exporter": "python",
   "pygments_lexer": "ipython3",
   "version": "3.11.5"
  }
 },
 "nbformat": 4,
 "nbformat_minor": 5
}
