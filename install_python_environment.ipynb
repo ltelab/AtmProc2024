{
 "cells": [
  {
   "cell_type": "markdown",
   "id": "29dd8fba-1e7a-422b-905c-4e999e70311f",
   "metadata": {},
   "source": [
    "# Creation of the virtual environment\n",
    "\n",
    "Noto provides a basic installation of python. To complete the exercise, we need a few extra libraries.\n",
    "\n",
    "We will install them in a virtual environment.\n",
    "First, we need to create the environment. Run the code in the following cell, by selecting it and pressing \"Shift Enter\".\n",
    "\n",
    "**Note: the installation can take up to a few minutes, but if it is too long, restart the kernel (circular arrow next to the stop button in the top bar)**"
   ]
  },
  {
   "cell_type": "code",
   "execution_count": 2,
   "id": "2ba55834-eef1-4889-885d-c06848a9f0df",
   "metadata": {
    "execution": {
     "iopub.execute_input": "2024-08-02T07:24:26.640568Z",
     "iopub.status.busy": "2024-08-02T07:24:26.639791Z",
     "iopub.status.idle": "2024-08-02T07:25:06.389752Z",
     "shell.execute_reply": "2024-08-02T07:25:06.387122Z",
     "shell.execute_reply.started": "2024-08-02T07:24:26.640515Z"
    },
    "tags": []
   },
   "outputs": [
    {
     "name": "stdout",
     "output_type": "stream",
     "text": [
      "FYI, I am running: /opt/jlab-env/bin/virtualenv --system-site-packages --activators bash,python --download /home/my_venvs/atm_proc_2024\n",
      "Please wait, this will take some time.\n",
      "created virtual environment CPython3.11.5.final.0-64 in 39218ms\n",
      "  creator CPython3Posix(dest=/home/my_venvs/atm_proc_2024, clear=False, no_vcs_ignore=False, global=True)\n",
      "  seeder FromAppData(download=True, pip=bundle, setuptools=bundle, wheel=bundle, via=copy, app_data_dir=/home/.local/share/virtualenv)\n",
      "    added seed packages: pip==24.2, setuptools==72.1.0, wheel==0.43.0\n",
      "  activators BashActivator,PythonActivator\n"
     ]
    }
   ],
   "source": [
    "# Creating the virtual environment\n",
    "my_venvs_create atm_proc_2024\n",
    "# Once the environment has been created, we can activate it\n",
    "my_venvs_activate atm_proc_2024"
   ]
  },
  {
   "cell_type": "markdown",
   "id": "a283b02e-451f-44ac-bd01-d3fab4e1325c",
   "metadata": {},
   "source": [
    "# Installation of the python libraries\n",
    "\n",
    "Some of the following libraries are used in the exercise, while others will be useful for the project that you will need to complete later during the semester.\n",
    "\n",
    "The following cell installs all the libraries. Execute it by selecting it and pressing \"Shift Enter\". Note: this can take some time."
   ]
  },
  {
   "cell_type": "code",
   "execution_count": 3,
   "id": "bc14def7-9c22-4bfd-ab3f-2cdf2b0863f2",
   "metadata": {
    "execution": {
     "iopub.execute_input": "2024-08-02T07:25:42.827790Z",
     "iopub.status.busy": "2024-08-02T07:25:42.825993Z",
     "iopub.status.idle": "2024-08-02T07:27:00.451916Z",
     "shell.execute_reply": "2024-08-02T07:27:00.449201Z",
     "shell.execute_reply.started": "2024-08-02T07:25:42.827727Z"
    },
    "tags": []
   },
   "outputs": [
    {
     "name": "stdout",
     "output_type": "stream",
     "text": [
      "Collecting netCDF4\n",
      "  Downloading netCDF4-1.7.1.post1-cp311-cp311-manylinux_2_17_x86_64.manylinux2014_x86_64.whl.metadata (1.8 kB)\n",
      "Collecting wrf-python\n",
      "  Using cached wrf-python-1.3.4.1.tar.gz (1.1 MB)\n",
      "  Preparing metadata (setup.py) ... \u001b[?25ldone\n",
      "\u001b[?25hCollecting metpy\n",
      "  Downloading MetPy-1.6.2-py3-none-any.whl.metadata (8.7 kB)\n",
      "Requirement already satisfied: ipykernel in /opt/jlab-env-3.11.5/lib/python3.11/site-packages (6.25.2)\n",
      "Collecting cftime (from netCDF4)\n",
      "  Downloading cftime-1.6.4-cp311-cp311-manylinux_2_17_x86_64.manylinux2014_x86_64.whl.metadata (8.7 kB)\n",
      "Requirement already satisfied: certifi in /opt/jlab-env-3.11.5/lib/python3.11/site-packages (from netCDF4) (2023.7.22)\n",
      "Requirement already satisfied: numpy in /opt/jlab-env-3.11.5/lib/python3.11/site-packages (from netCDF4) (1.24.4)\n",
      "Collecting basemap (from wrf-python)\n",
      "  Downloading basemap-1.4.1-cp311-cp311-manylinux1_x86_64.whl.metadata (9.1 kB)\n",
      "Requirement already satisfied: setuptools in /home/my_venvs/atm_proc_2024/lib/python3.11/site-packages (from wrf-python) (72.1.0)\n",
      "Requirement already satisfied: wrapt in /opt/jlab-env-3.11.5/lib/python3.11/site-packages (from wrf-python) (1.15.0)\n",
      "Requirement already satisfied: xarray in /opt/jlab-env-3.11.5/lib/python3.11/site-packages (from wrf-python) (2023.8.0)\n",
      "Requirement already satisfied: matplotlib>=3.5.0 in /opt/jlab-env-3.11.5/lib/python3.11/site-packages (from metpy) (3.7.1)\n",
      "Requirement already satisfied: pandas>=1.4.0 in /opt/jlab-env-3.11.5/lib/python3.11/site-packages (from metpy) (2.0.3)\n",
      "Collecting pint>=0.17 (from metpy)\n",
      "  Downloading Pint-0.24.3-py3-none-any.whl.metadata (8.5 kB)\n",
      "Collecting pooch>=1.2.0 (from metpy)\n",
      "  Downloading pooch-1.8.2-py3-none-any.whl.metadata (10 kB)\n",
      "Requirement already satisfied: pyproj>=3.0.0 in /opt/jlab-env-3.11.5/lib/python3.11/site-packages (from metpy) (3.6.0)\n",
      "Requirement already satisfied: scipy>=1.8.0 in /opt/jlab-env-3.11.5/lib/python3.11/site-packages (from metpy) (1.11.1)\n",
      "Requirement already satisfied: traitlets>=5.0.5 in /opt/jlab-env-3.11.5/lib/python3.11/site-packages (from metpy) (5.9.0)\n",
      "Requirement already satisfied: comm>=0.1.1 in /opt/jlab-env-3.11.5/lib/python3.11/site-packages (from ipykernel) (0.1.4)\n",
      "Requirement already satisfied: debugpy>=1.6.5 in /opt/jlab-env-3.11.5/lib/python3.11/site-packages (from ipykernel) (1.6.7)\n",
      "Requirement already satisfied: ipython>=7.23.1 in /opt/jlab-env-3.11.5/lib/python3.11/site-packages (from ipykernel) (8.15.0)\n",
      "Requirement already satisfied: jupyter-client>=6.1.12 in /opt/jlab-env-3.11.5/lib/python3.11/site-packages (from ipykernel) (8.3.1)\n",
      "Requirement already satisfied: jupyter-core!=5.0.*,>=4.12 in /opt/jlab-env-3.11.5/lib/python3.11/site-packages (from ipykernel) (5.3.1)\n",
      "Requirement already satisfied: matplotlib-inline>=0.1 in /opt/jlab-env-3.11.5/lib/python3.11/site-packages (from ipykernel) (0.1.6)\n",
      "Requirement already satisfied: nest-asyncio in /opt/jlab-env-3.11.5/lib/python3.11/site-packages (from ipykernel) (1.5.7)\n",
      "Requirement already satisfied: packaging in /opt/jlab-env-3.11.5/lib/python3.11/site-packages (from ipykernel) (23.1)\n",
      "Requirement already satisfied: psutil in /opt/jlab-env-3.11.5/lib/python3.11/site-packages (from ipykernel) (5.9.5)\n",
      "Requirement already satisfied: pyzmq>=20 in /opt/jlab-env-3.11.5/lib/python3.11/site-packages (from ipykernel) (24.0.1)\n",
      "Requirement already satisfied: tornado>=6.1 in /opt/jlab-env-3.11.5/lib/python3.11/site-packages (from ipykernel) (6.3.3)\n",
      "Requirement already satisfied: backcall in /opt/jlab-env-3.11.5/lib/python3.11/site-packages (from ipython>=7.23.1->ipykernel) (0.2.0)\n",
      "Requirement already satisfied: decorator in /opt/jlab-env-3.11.5/lib/python3.11/site-packages (from ipython>=7.23.1->ipykernel) (5.1.1)\n",
      "Requirement already satisfied: jedi>=0.16 in /opt/jlab-env-3.11.5/lib/python3.11/site-packages (from ipython>=7.23.1->ipykernel) (0.19.0)\n",
      "Requirement already satisfied: pickleshare in /opt/jlab-env-3.11.5/lib/python3.11/site-packages (from ipython>=7.23.1->ipykernel) (0.7.5)\n",
      "Requirement already satisfied: prompt-toolkit!=3.0.37,<3.1.0,>=3.0.30 in /opt/jlab-env-3.11.5/lib/python3.11/site-packages (from ipython>=7.23.1->ipykernel) (3.0.39)\n",
      "Requirement already satisfied: pygments>=2.4.0 in /opt/jlab-env-3.11.5/lib/python3.11/site-packages (from ipython>=7.23.1->ipykernel) (2.16.1)\n",
      "Requirement already satisfied: stack-data in /opt/jlab-env-3.11.5/lib/python3.11/site-packages (from ipython>=7.23.1->ipykernel) (0.6.2)\n",
      "Requirement already satisfied: pexpect>4.3 in /opt/jlab-env-3.11.5/lib/python3.11/site-packages (from ipython>=7.23.1->ipykernel) (4.8.0)\n",
      "Requirement already satisfied: python-dateutil>=2.8.2 in /opt/jlab-env-3.11.5/lib/python3.11/site-packages (from jupyter-client>=6.1.12->ipykernel) (2.8.2)\n",
      "Requirement already satisfied: platformdirs>=2.5 in /opt/jlab-env-3.11.5/lib/python3.11/site-packages (from jupyter-core!=5.0.*,>=4.12->ipykernel) (3.10.0)\n",
      "Requirement already satisfied: contourpy>=1.0.1 in /opt/jlab-env-3.11.5/lib/python3.11/site-packages (from matplotlib>=3.5.0->metpy) (1.1.0)\n",
      "Requirement already satisfied: cycler>=0.10 in /opt/jlab-env-3.11.5/lib/python3.11/site-packages (from matplotlib>=3.5.0->metpy) (0.11.0)\n",
      "Requirement already satisfied: fonttools>=4.22.0 in /opt/jlab-env-3.11.5/lib/python3.11/site-packages (from matplotlib>=3.5.0->metpy) (4.42.1)\n",
      "Requirement already satisfied: kiwisolver>=1.0.1 in /opt/jlab-env-3.11.5/lib/python3.11/site-packages (from matplotlib>=3.5.0->metpy) (1.4.5)\n",
      "Requirement already satisfied: pillow>=6.2.0 in /opt/jlab-env-3.11.5/lib/python3.11/site-packages (from matplotlib>=3.5.0->metpy) (10.0.0)\n",
      "Requirement already satisfied: pyparsing>=2.3.1 in /opt/jlab-env-3.11.5/lib/python3.11/site-packages (from matplotlib>=3.5.0->metpy) (3.1.1)\n",
      "Requirement already satisfied: pytz>=2020.1 in /opt/jlab-env-3.11.5/lib/python3.11/site-packages (from pandas>=1.4.0->metpy) (2023.3.post1)\n",
      "Requirement already satisfied: tzdata>=2022.1 in /opt/jlab-env-3.11.5/lib/python3.11/site-packages (from pandas>=1.4.0->metpy) (2023.3)\n",
      "Requirement already satisfied: appdirs>=1.4.4 in /opt/jlab-env-3.11.5/lib/python3.11/site-packages (from pint>=0.17->metpy) (1.4.4)\n",
      "Requirement already satisfied: typing-extensions in /opt/jlab-env-3.11.5/lib/python3.11/site-packages (from pint>=0.17->metpy) (4.7.1)\n",
      "Collecting flexcache>=0.3 (from pint>=0.17->metpy)\n",
      "  Downloading flexcache-0.3-py3-none-any.whl.metadata (7.0 kB)\n",
      "Collecting flexparser>=0.3 (from pint>=0.17->metpy)\n",
      "  Downloading flexparser-0.3.1-py3-none-any.whl.metadata (18 kB)\n",
      "Requirement already satisfied: requests>=2.19.0 in /opt/jlab-env-3.11.5/lib/python3.11/site-packages (from pooch>=1.2.0->metpy) (2.31.0)\n",
      "Collecting basemap-data<1.4,>=1.3.2 (from basemap->wrf-python)\n",
      "  Using cached basemap_data-1.3.2-py2.py3-none-any.whl.metadata (2.7 kB)\n",
      "Requirement already satisfied: pyshp<2.4,>=1.2 in /opt/jlab-env-3.11.5/lib/python3.11/site-packages (from basemap->wrf-python) (2.3.1)\n",
      "Requirement already satisfied: parso<0.9.0,>=0.8.3 in /opt/jlab-env-3.11.5/lib/python3.11/site-packages (from jedi>=0.16->ipython>=7.23.1->ipykernel) (0.8.3)\n",
      "Requirement already satisfied: ptyprocess>=0.5 in /opt/jlab-env-3.11.5/lib/python3.11/site-packages (from pexpect>4.3->ipython>=7.23.1->ipykernel) (0.7.0)\n",
      "Requirement already satisfied: wcwidth in /opt/jlab-env-3.11.5/lib/python3.11/site-packages (from prompt-toolkit!=3.0.37,<3.1.0,>=3.0.30->ipython>=7.23.1->ipykernel) (0.2.6)\n",
      "Requirement already satisfied: six>=1.5 in /opt/jlab-env-3.11.5/lib/python3.11/site-packages (from python-dateutil>=2.8.2->jupyter-client>=6.1.12->ipykernel) (1.16.0)\n",
      "Requirement already satisfied: charset-normalizer<4,>=2 in /opt/jlab-env-3.11.5/lib/python3.11/site-packages (from requests>=2.19.0->pooch>=1.2.0->metpy) (3.2.0)\n",
      "Requirement already satisfied: idna<4,>=2.5 in /opt/jlab-env-3.11.5/lib/python3.11/site-packages (from requests>=2.19.0->pooch>=1.2.0->metpy) (3.4)\n",
      "Requirement already satisfied: urllib3<3,>=1.21.1 in /opt/jlab-env-3.11.5/lib/python3.11/site-packages (from requests>=2.19.0->pooch>=1.2.0->metpy) (1.26.16)\n",
      "Requirement already satisfied: executing>=1.2.0 in /opt/jlab-env-3.11.5/lib/python3.11/site-packages (from stack-data->ipython>=7.23.1->ipykernel) (1.2.0)\n",
      "Requirement already satisfied: asttokens>=2.1.0 in /opt/jlab-env-3.11.5/lib/python3.11/site-packages (from stack-data->ipython>=7.23.1->ipykernel) (2.4.0)\n",
      "Requirement already satisfied: pure-eval in /opt/jlab-env-3.11.5/lib/python3.11/site-packages (from stack-data->ipython>=7.23.1->ipykernel) (0.2.2)\n",
      "Downloading netCDF4-1.7.1.post1-cp311-cp311-manylinux_2_17_x86_64.manylinux2014_x86_64.whl (9.2 MB)\n",
      "   ━━━━━━━━━━━━━━━━━━━━━━━━━━━━━━━━━━━━━━━━ 9.2/9.2 MB 20.3 MB/s eta 0:00:00\n",
      "\n",
      "Downloading MetPy-1.6.2-py3-none-any.whl (409 kB)\n",
      "Downloading Pint-0.24.3-py3-none-any.whl (301 kB)\n",
      "Downloading pooch-1.8.2-py3-none-any.whl (64 kB)\n",
      "Downloading basemap-1.4.1-cp311-cp311-manylinux1_x86_64.whl (942 kB)\n",
      "   ━━━━━━━━━━━━━━━━━━━━━━━━━━━━━━━━━━━━━━━━ 942.4/942.4 kB 4.4 MB/s eta 0:00:00\n",
      "\n",
      "Downloading cftime-1.6.4-cp311-cp311-manylinux_2_17_x86_64.manylinux2014_x86_64.whl (1.4 MB)\n",
      "   ━━━━━━━━━━━━━━━━━━━━━━━━━━━━━━━━━━━━━━━━ 1.4/1.4 MB 7.1 MB/s eta 0:00:00\n",
      "\n",
      "Using cached basemap_data-1.3.2-py2.py3-none-any.whl (30.5 MB)\n",
      "Downloading flexcache-0.3-py3-none-any.whl (13 kB)\n",
      "Downloading flexparser-0.3.1-py3-none-any.whl (27 kB)\n",
      "Building wheels for collected packages: wrf-python\n",
      "  Building wheel for wrf-python (setup.py) ... \u001b[?25ldone\n",
      "\u001b[?25h  Created wheel for wrf-python: filename=wrf_python-1.3.4.1-cp311-cp311-linux_x86_64.whl size=652493 sha256=7655b18feda37e1e48f725bbde2f78964e692b737b94d862e5b2b430ef6ed4f1\n",
      "  Stored in directory: /home/.cache/pip/wheels/3e/8b/49/bed9193eff81cb531deec2a9b18fc18fcdb476f048897086ff\n",
      "Successfully built wrf-python\n",
      "Installing collected packages: flexparser, flexcache, cftime, basemap-data, pooch, pint, netCDF4, basemap, wrf-python, metpy\n",
      "Successfully installed basemap-1.4.1 basemap-data-1.3.2 cftime-1.6.4 flexcache-0.3 flexparser-0.3.1 metpy-1.6.2 netCDF4-1.7.1.post1 pint-0.24.3 pooch-1.8.2 wrf-python-1.3.4.1\n"
     ]
    }
   ],
   "source": [
    "# List of libraries that we are installing:\n",
    "# - NetCDF allows us to read the radar data, which are stored in netCDF format\n",
    "# - WRF-python is a library for reading and processing simulations from the Weather Research Forecasting (WRF) model\n",
    "# - Metpy helps us in reading, visualizing and performing simple analyses with weather data\n",
    "# - ipykernel is required for the jupyter notebooks to run.\n",
    "pip install netCDF4 wrf-python metpy ipykernel"
   ]
  },
  {
   "cell_type": "markdown",
   "id": "72cf85a5-f832-4b83-a7a0-b520a87fdda5",
   "metadata": {},
   "source": [
    "# Creating the kernel\n",
    "\n",
    "The following code creates a kernel, that you will have to activate in the notebook of the exercise."
   ]
  },
  {
   "cell_type": "code",
   "execution_count": 4,
   "id": "81e02b3f-f725-429d-a2b3-22a6ac6305c6",
   "metadata": {
    "execution": {
     "iopub.execute_input": "2024-08-02T07:27:00.456242Z",
     "iopub.status.busy": "2024-08-02T07:27:00.455518Z",
     "iopub.status.idle": "2024-08-02T07:27:02.031696Z",
     "shell.execute_reply": "2024-08-02T07:27:02.029337Z",
     "shell.execute_reply.started": "2024-08-02T07:27:00.456191Z"
    },
    "tags": []
   },
   "outputs": [
    {
     "name": "stdout",
     "output_type": "stream",
     "text": [
      "Installed kernelspec atm_proc_ex2 in /home/.local/share/jupyter/kernels/atm_proc_ex2\n"
     ]
    }
   ],
   "source": [
    "my_kernels_create atm_proc_ex2 \"AtmProc_Ex2\""
   ]
  },
  {
   "cell_type": "code",
   "execution_count": null,
   "id": "b5ec40f3-432e-4bc3-abe4-992dae87aa11",
   "metadata": {},
   "outputs": [],
   "source": []
  }
 ],
 "metadata": {
  "kernelspec": {
   "display_name": "Bash",
   "language": "bash",
   "name": "bash"
  },
  "language_info": {
   "codemirror_mode": "shell",
   "file_extension": ".sh",
   "mimetype": "text/x-sh",
   "name": "bash"
  }
 },
 "nbformat": 4,
 "nbformat_minor": 5
}
