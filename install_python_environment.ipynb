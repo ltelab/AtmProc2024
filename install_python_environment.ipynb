{
 "cells": [
  {
   "cell_type": "markdown",
   "id": "29dd8fba-1e7a-422b-905c-4e999e70311f",
   "metadata": {},
   "source": [
    "# Creation of the virtual environment\n",
    "\n",
    "Noto provides a basic installation of python. To complete the exercise, we need a few extra libraries.\n",
    "\n",
    "We will install them in a virtual environment.\n",
    "First, we need to create the environment. Run the code in the following cell, by selecting it and pressing \"Shift Enter\".\n",
    "\n",
    "**Note: the installation can take up to a few minutes, but if it is too long, restart the kernel (circular arrow next to the stop button in the top bar)**"
   ]
  },
  {
   "cell_type": "code",
   "execution_count": null,
   "id": "2ba55834-eef1-4889-885d-c06848a9f0df",
   "metadata": {
    "tags": []
   },
   "outputs": [],
   "source": [
    "# Creating the virtual environment\n",
    "my_venvs_create atm_proc_2024\n",
    "# Once the environment has been created, we can activate it\n",
    "my_venvs_activate atm_proc_2024"
   ]
  },
  {
   "cell_type": "markdown",
   "id": "a283b02e-451f-44ac-bd01-d3fab4e1325c",
   "metadata": {},
   "source": [
    "# Installation of the python libraries\n",
    "\n",
    "Some of the following libraries are used in the exercise, while others will be useful for the project that you will need to complete later during the semester.\n",
    "\n",
    "The following cell installs all the libraries. Execute it by selecting it and pressing \"Shift Enter\". Note: this can take some time."
   ]
  },
  {
   "cell_type": "code",
   "execution_count": null,
   "id": "bc14def7-9c22-4bfd-ab3f-2cdf2b0863f2",
   "metadata": {
    "tags": []
   },
   "outputs": [],
   "source": [
    "# List of libraries that we are installing:\n",
    "# - NetCDF allows us to read the radar data, which are stored in netCDF format\n",
    "# - WRF-python is a library for reading and processing simulations from the Weather Research Forecasting (WRF) model \n",
    "# WARNING For now removed this package (wrf-python) because does not install with python 3.12 - this is an issue for Ex2 part II !!\n",
    "# - Metpy helps us in reading, visualizing and performing simple analyses with weather data\n",
    "# - ipykernel is required for the jupyter notebooks to run.\n",
    "# - arm_pyart is a library to process and plot radar data\n",
    "pip install netCDF4 metpy ipykernel arm_pyart"
   ]
  },
  {
   "cell_type": "markdown",
   "id": "72cf85a5-f832-4b83-a7a0-b520a87fdda5",
   "metadata": {},
   "source": [
    "# Creating the kernel\n",
    "\n",
    "The following code creates a kernel, that you will have to activate in the notebook of the exercise."
   ]
  },
  {
   "cell_type": "code",
   "execution_count": null,
   "id": "81e02b3f-f725-429d-a2b3-22a6ac6305c6",
   "metadata": {
    "tags": []
   },
   "outputs": [],
   "source": [
    "my_kernels_create atm_proc_ex2 \"AtmProc_Ex2\""
   ]
  },
  {
   "cell_type": "code",
   "execution_count": null,
   "id": "b5ec40f3-432e-4bc3-abe4-992dae87aa11",
   "metadata": {},
   "outputs": [],
   "source": []
  }
 ],
 "metadata": {
  "kernelspec": {
   "display_name": "Bash",
   "language": "bash",
   "name": "bash"
  },
  "language_info": {
   "codemirror_mode": "shell",
   "file_extension": ".sh",
   "mimetype": "text/x-sh",
   "name": "bash"
  }
 },
 "nbformat": 4,
 "nbformat_minor": 5
}
