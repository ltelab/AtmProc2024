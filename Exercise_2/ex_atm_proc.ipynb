{
 "cells": [
  {
   "cell_type": "markdown",
   "metadata": {},
   "source": [
    "# Atmospheric processes: from cloud to global scales\n",
    "# Exercise on radar, microphysics and mountain meteorology\n",
    "\n",
    "## Introduction \n",
    "\n",
    "In this exercise, you will analyze data from the PLATO campaign that took place at the Davis research station in Antarctica, in January 2019.\n",
    "The case study corresponds to a precipitation event on January 8, 2019, where interesting signatures were observed.\n",
    "\n",
    "**1st part**\\\n",
    "We will look at data from two radars:\n",
    "- BASTA is a vertically-pointing W-band (94 GHz) radar, measuring time series of radar reflectivity and mean Doppler velocity\n",
    "- MXPol is a scanning X-band (9.4 GHz) radar. From its measurements, we extract vertical profiles of radar reflectivity. ( TO DO DO WE WANT TO ADD SOMETHING ABOUT SPECTRA ??)\n",
    "\n",
    "We also examine radiosonde data, from a sounding launched at Davis station at 12UTC on January 8.\n",
    "\n",
    "**2nd part**\\\n",
    "To complement the observations, simulations from a high-resolution weather model are used to study atmospheric dynamics with a 3D perspective. This allows to investigate the interactions between the large-scale synoptic situation, the terrain, and the microphysical processes.\n"
   ]
  },
  {
   "cell_type": "markdown",
   "metadata": {},
   "source": [
    "### Preparing Python for the exercise\n",
    "\n",
    "You will need to install some Python libraries for executing the code in this exercise.\n",
    "A notebook has been created for the installation, and it is available at:\n",
    "\n",
    "TO DO CREATE LINK\n",
    "\n",
    "Access it and execute the code in it. When you finish the installation, come back to this notebook for completing the exercise."
   ]
  },
  {
   "cell_type": "markdown",
   "metadata": {},
   "source": [
    "### Activating the kernel\n",
    "\n",
    "In the installation notebook, we creatred a virtual environment in which we installed some python libraries. A kernel has been associated to this environment.\n",
    "You will need to activate this kernel for the current exercise for loading the libraries correctly.\n",
    "\n",
    "Click on the \"Switch kernel\" button in the right hand corner of the screen. It is the small text on the left of the circle (\"kernel status\" indicator) and on the right of the bug icon (\"Debugger\" icon).\n",
    "Once you click on it, a drop-down menu will appear and you will be able to select the kernel we created, called \"Radar ex\".\n",
    "Select \"Radar ex\" in the list and click on the \"Select\" button.\n",
    "\n",
    "If the \"Radar ex\" kernel does not appear in the drop-down menu, interrupt the current kernel (square button in the bar at the top of this tab) and restart it (circular arrow, on the right of the square button).\n",
    "Then, repeat the procedure to select the \"Radar ex\" kernel, and it should appear in the list."
   ]
  },
  {
   "cell_type": "markdown",
   "metadata": {},
   "source": [
    "### General instructions\n",
    "This exercise does not require to code in Python. You will simply have to execute the cells one after the other by pressing Shift + Enter. In some cells, you will have to adjust the values of certain variables, which will be specified clearly (in CAPITAL letters).\n",
    "\n",
    "The questions will guide you through an interpretation of the radar variables in terms of cloud or precipitation microphysical properties and processes.\n",
    "More difficult questions are indicated with a star (*).\n"
   ]
  },
  {
   "cell_type": "markdown",
   "metadata": {},
   "source": [
    "## Part I"
   ]
  },
  {
   "cell_type": "code",
   "execution_count": null,
   "metadata": {},
   "outputs": [],
   "source": [
    "from netCDF4 import Dataset\n",
    "import numpy as np\n",
    "import datetime\n",
    "import matplotlib.pyplot as plt\n",
    "plt.rcParams.update({'font.size':14})\n",
    "import matplotlib.dates as mdates\n",
    "import datetime\n",
    "datefmt = mdates.DateFormatter('%H:%M')\n",
    "import pandas as pd\n",
    "plt.rcParams['font.size']=14"
   ]
  },
  {
   "cell_type": "code",
   "execution_count": null,
   "metadata": {},
   "outputs": [],
   "source": [
    "nc_basta = Dataset('Data/BASTA_L2_merged_20190108.nc')\n",
    "t_basta = nc_basta.variables['time']\n",
    "dt = [datetime.datetime(2019,1,8)+datetime.timedelta(seconds=int(tt)) for tt in nc_basta.variables['time'][:]]\n",
    "rg = nc_basta.variables['height'][:]\n",
    "Ze = nc_basta.variables['reflectivity'][:]\n",
    "VDop = nc_basta.variables['velocity'][:]\n",
    "mask = Ze<-50\n",
    "VDop[mask]=np.nan\n",
    "Ze[mask]=np.nan\n",
    "\n",
    "nc_dfr = Dataset('Data/PLATO_dual_frequency_radar_data_20190108.nc')\n",
    "t_dfr = nc_dfr.variables['time'][:]+3600\n",
    "dt_dfr = [datetime.datetime.fromtimestamp(tt, tz=datetime.timezone.utc) for tt in t_dfr]\n",
    "rg_dfr = nc_dfr.variables['range'][:]\n",
    "DFR = nc_dfr.variables['ZeX'][:]-nc_dfr.variables['ZeW'][:]"
   ]
  },
  {
   "cell_type": "markdown",
   "metadata": {},
   "source": [
    "In the following cell, we plot the timeseries of radar variables measured by BASTA (radar reflectivity Ze and mean Doppler velocity)"
   ]
  },
  {
   "cell_type": "code",
   "execution_count": null,
   "metadata": {},
   "outputs": [],
   "source": [
    "plt.rcParams['font.size']=14\n",
    "fig,axs = plt.subplots(2,figsize=(15,8),sharex=True)\n",
    "im0=axs[0].pcolormesh(dt,rg/1e3,Ze,vmin=-30,vmax=30,cmap='turbo')\n",
    "im1=axs[1].pcolormesh(dt,rg/1e3,VDop,vmin=-3,vmax=3,cmap='bwr')\n",
    "\n",
    "for ax in axs:\n",
    "    ax.set_ylim(0,9)\n",
    "    ax.set_ylabel('Range [km]')\n",
    "    ax.set_xlabel('Time [UTC]')\n",
    "    ax.xaxis.set_major_formatter(mdates.DateFormatter('%H:%M'))\n",
    "    ax.grid()\n",
    "plt.colorbar(im0,ax=axs[0],label='Ze [dBZ]')\n",
    "_=plt.colorbar(im1,ax=axs[1],label='Mean Doppler vel. [m s$^{-1}$]')\n"
   ]
  },
  {
   "cell_type": "markdown",
   "metadata": {},
   "source": [
    "> **Question 1**: Recall the physical meaning of radar reflectivity (Ze) and mean Doppler velocity (MDV). What are the radar targets here? What information do Ze and MDV respectively convey?"
   ]
  },
  {
   "cell_type": "markdown",
   "metadata": {},
   "source": [
    "> **Question 2**: When is precipitation observed at the ground, and what type(s) of precipitation is (are) observed?"
   ]
  },
  {
   "cell_type": "markdown",
   "metadata": {},
   "source": [
    "> **Question 3**: What type(s) of cloud is (are) present in these timeseries?"
   ]
  },
  {
   "cell_type": "markdown",
   "metadata": {},
   "source": [
    "> **Question 4**: What do you observe in the radar timeseries at low levels (below ~1km, especially before 15UTC)? What microphysical process(es) is happening?"
   ]
  },
  {
   "cell_type": "code",
   "execution_count": null,
   "metadata": {},
   "outputs": [],
   "source": [
    "headers = ['Altitude A.G.L (m)', 'Pressure (Pa)', 'Temperature (K)', 'Specific humidity (kg/kg)', 'RH w.r.t liq (%)', 'RH w.r.t ice (%)', 'Wind speed (m/s)', 'Wind direction (deg)']\n",
    "RS = pd.read_csv('Davis_RS_20190108_12.txt',sep='\\t',names = headers )\n",
    "wind_dir = RS['Wind direction (deg)']\n",
    "wind_dir[wind_dir>300]=wind_dir-360"
   ]
  },
  {
   "cell_type": "code",
   "execution_count": null,
   "metadata": {},
   "outputs": [],
   "source": [
    "fig,axs=plt.subplots(1,4,figsize=(18,7),sharey=True)\n",
    "axs[0].plot(RS['Temperature (K)']-273.15, RS['Altitude A.G.L (m)'],'k',lw=2)\n",
    "axs[1].plot(RS['RH w.r.t liq (%)'], RS['Altitude A.G.L (m)'],'k',lw=2, label='w.r.t. liq.')\n",
    "axs[1].plot(RS['RH w.r.t ice (%)'], RS['Altitude A.G.L (m)'],'--k',lw=1.5, label='w.r.t. ice')\n",
    "axs[2].plot(RS['Wind speed (m/s)'], RS['Altitude A.G.L (m)'],'-k',lw=2)\n",
    "axs[3].plot(RS['Wind direction (deg)'], RS['Altitude A.G.L (m)'],'-k',lw=2)\n",
    "axs[0].set_ylim(0,9000)\n",
    "axs[1].set_xlim(0,120)\n",
    "axs[3].set_xlim(-50,100)\n",
    "axs[0].set_ylabel('Height above ground [m]')\n",
    "axs[0].set_xlabel('Temperature [°C]')\n",
    "axs[1].set_xlabel('Relative humidity [%]')\n",
    "axs[1].legend()\n",
    "axs[2].set_xlabel('Wind speed [m s$^{-1}$]')\n",
    "axs[3].set_xlabel('Wind direction [°]')\n",
    "for ax in axs:\n",
    "    ax.grid()"
   ]
  },
  {
   "cell_type": "markdown",
   "metadata": {},
   "source": [
    "We plot the standard variables measured by the radiosonde launched at Davis station on January 8 at 12UTC. \n",
    "\n",
    "> **Question 5** How do these sounding data confirm (or not) your answer to question 4?\n"
   ]
  },
  {
   "cell_type": "markdown",
   "metadata": {},
   "source": [
    "We now plot the dual-frequency ratio between X and W-band reflectivity, which is defined as $DFR = Ze_X$ - Ze_W$ with $Ze_X$ and $Ze_W$ in logarithmic units (dBZ).\n"
   ]
  },
  {
   "cell_type": "code",
   "execution_count": null,
   "metadata": {},
   "outputs": [],
   "source": [
    "plt.rcParams['font.size']=14\n",
    "fig,ax = plt.subplots(figsize=(15,4))\n",
    "im0=ax.pcolormesh(dt_dfr,rg_dfr/1e3,DFR.T,vmin=-5,vmax=20,cmap='plasma')\n",
    "ax.set_ylim(0,9)\n",
    "ax.set_ylabel('Range [km]')\n",
    "ax.set_xlabel('Time [UTC]')\n",
    "ax.grid()\n",
    "ax.xaxis.set_major_formatter(mdates.DateFormatter('%H:%M'))\n",
    "_=plt.colorbar(im0,label='DFR [dB]')\n"
   ]
  },
  {
   "cell_type": "markdown",
   "metadata": {},
   "source": [
    ">**Question 6** Recall how DFR can be interpreted in terms of precipitation microphysics. What possible processes could explain the regions of higher DFR in this timeseries?\n"
   ]
  },
  {
   "cell_type": "markdown",
   "metadata": {},
   "source": [
    "## Part II"
   ]
  },
  {
   "cell_type": "markdown",
   "metadata": {},
   "source": [
    "We propose the hypothesis that interaction between the large-scale atmospheric flow and the local orographic terrain is responsible for the observed phenomena:\n",
    "- the low-level process discussed in questions 4-5, \n",
    "- and the higher-level process observed in question 6. \n",
    "\n",
    "The next steps of the exercise investigate this hypothesis, by relying on the outputs of a high-resolution numerical model (Weather Research Forecast, WRF) which was run on this event.\n",
    "\n",
    "**Upload the data**: The data could not be shared through Noto, so you have to upload it yourself. Download it from the following link: \n",
    "Then upload it to the AtmProc2024/Exercise_2/Data/ directory on your Noto space (drag and drop)."
   ]
  },
  {
   "cell_type": "code",
   "execution_count": null,
   "metadata": {},
   "outputs": [],
   "source": [
    "%reset -f\n",
    "\n",
    "# Import required libraries\n",
    "import wrf\n",
    "import matplotlib.pyplot as plt\n",
    "from netCDF4 import Dataset\n",
    "import numpy as np\n",
    "import datetime\n",
    "import matplotlib.colors as colors\n",
    "\n",
    "# Load and prepare data\n",
    "nc = Dataset('Data/wrfout_Davis1_v2lessdiff_d03_subselection.nc')\n",
    "lat_Davis, lon_Davis = -68.576667, 77.9675\n",
    "pivot_point = wrf.CoordPair(lat=lat_Davis, lon=lon_Davis)\n",
    "\n",
    "it = 0\n",
    "pressure = wrf.getvar(nc, \"pressure\",timeidx=it)\n",
    "wa = wrf.getvar(nc,\"wa\",units=\"m s-1\",timeidx=it)\n",
    "ua = wrf.getvar(nc,\"ua\",units=\"kt\",timeidx=it)\n",
    "va = wrf.getvar(nc,\"va\",units=\"kt\",timeidx=it)\n",
    "h = wrf.getvar(nc,\"height_agl\",timeidx=it)+wrf.getvar(nc,\"ter\",timeidx=it)\n",
    "ter = wrf.getvar(nc,\"ter\",timeidx=it)\n",
    "th = wrf.getvar(nc,\"th\",units=\"K\",timeidx=it)\n",
    "rh_lw = wrf.getvar(nc,\"rh\",timeidx=it)\n",
    "temp = wrf.getvar(nc,\"temp\",units=\"K\",timeidx=it)\n",
    "pcum = wrf.getvar(nc, \"RAINNC\",timeidx=-1)\n",
    "dt_wrf = [datetime.datetime(2019,1,7,0,tzinfo=datetime.timezone.utc)+datetime.timedelta(minutes=int(m)) for m in nc['XTIME'][:]]\n",
    "\n",
    "# A few calculations to derive relative humidity w.r.t ice \n",
    "A_w = 2.53 * (10**8) #kPa\n",
    "B_w = 5.42 * (10**3) # K\n",
    "es_w = A_w * np.exp(-((B_w)/temp))\n",
    "A_i = 3.41 * (10**9) #kPa\n",
    "B_i = 6.13 * (10**3) #K\n",
    "es_i=A_i* np.exp(-((B_i)/temp))\n",
    "rh_i=rh_lw*(es_w/es_i)"
   ]
  },
  {
   "cell_type": "markdown",
   "metadata": {},
   "source": [
    "In the next cell, you will plot a map of certain meteorological fields in the area of the research station, as modeled with WRF.\n",
    "At the beginning of the cell, you can define whether or not to plot certain fields, and at which altitude: you can choose to plot them at ground level or at a given altitude (i.e., horizontal cross-section.)\n",
    "\n",
    ">**Question 7** Look at the map with no meteorological fields plotted (only terrain contours). Briefly describe the topography.\n",
    "\n",
    ">**Question 8** Plot the horizontal wind field (wind barbs) at a chosen altitude (surface level or horizontal cross-section - you can try several). Discuss its orientation with respect to the topography, in the vicinity of the station. Give examples of what could result from this interaction.\n",
    "\n",
    ">**Question 9** Plot the vertical wind field at a chosen altitude (surface level or horizontal cross-section - you can try several). Discuss, and propose explanations (taking into account the previous questions).\n"
   ]
  },
  {
   "cell_type": "code",
   "execution_count": null,
   "metadata": {},
   "outputs": [],
   "source": [
    "# 1 - Define whether to display horizontal wind field and how\n",
    "# Wind barbs are a concise way of representing the horizontal wind field with speed and direction. They follow a specific convention (detailed here for instance: https://www.weather.gov/hfo/windbarbinfo)\n",
    "WIND_BARBS = False # Set to True to plot the wind barbs\n",
    "WIND_BARBS_ALTITUDE = -1 # Set to -1 if you want to plot the wind field at the surface; set to an altitude value > 0 to plot the wind field at this altitude.\n",
    "\n",
    "# 2 - Define whether to display vertical wind field and how\n",
    "W_WIND_CONTOURS = False # Set to True to plot the vertical wind field\n",
    "W_WIND_ALTITUDE = -1 # Set to -1 if you want to plot the wind field at the surface; set to an altitude value > 0 to plot the wind field at this altitude.\n",
    "\n",
    "# 3 - In the next cell we propose to plot a **vertical** cross-section of meteorological fields. Here you can define the direction of the cross-section (passing through Davis research station) by setting the ANGLE value.\n",
    "PLOT_CROSS_SECT_LINE = False\n",
    "ANGLE = 0\n",
    "\n",
    "\n",
    "# Get the lat/lon coordinates\n",
    "lats, lons = wrf.latlon_coords(h)\n",
    "# Get the basemap object\n",
    "bm = wrf.get_basemap(ter,resolution='i')\n",
    "x, y = bm(wrf.to_np(lons), wrf.to_np(lats)) # Convert the lat/lon coordinates to x/y coordinates in the projection space\n",
    "\n",
    "# Create the figure\n",
    "fig = plt.figure(figsize=(12,9))\n",
    "ax = plt.axes()\n",
    "\n",
    "# Add the terrain contours\n",
    "levels = np.arange(0,2000,200)\n",
    "contours = bm.contour(x, y, wrf.to_np(ter), levels=levels, colors=\"black\",linewidths=.75)\n",
    "plt.clabel(contours, inline=1, fontsize=10, fmt=\"%i\")\n",
    "\n",
    "# Add the geographic boundaries\n",
    "bm.drawcoastlines(linewidth=1.5)\n",
    "bm.drawstates(linewidth=0.25)\n",
    "bm.drawcountries(linewidth=0.25)\n",
    "bm.drawparallels(np.arange(-70., -67., 1.), labels=[1,0,0,0])\n",
    "bm.drawmeridians(np.arange(75.,82.,2.), labels=[0,0,0,1])\n",
    "\n",
    "# Add Davis station location \n",
    "xd,yd = bm(lon_Davis,lat_Davis)\n",
    "bm.scatter(xd,yd,marker='*',color='yellow',edgecolor='k',s=250,zorder=100,linewidth=1.5)\n",
    "\n",
    "\n",
    "# Add the wind barbs\n",
    "if WIND_BARBS:\n",
    "\n",
    "    if WIND_BARBS_ALTITUDE > 0:\n",
    "        u_barbs = wrf.interplevel(ua, h, WIND_BARBS_ALTITUDE)\n",
    "        v_barbs = wrf.interplevel(va, h, WIND_BARBS_ALTITUDE)\n",
    "    else: # wind field at the surface\n",
    "        u_barbs = ua[0]\n",
    "        v_barbs = va[0]\n",
    "\n",
    "    bm.barbs(x[::10,::10], y[::10,::10], wrf.to_np(u_barbs[::10, ::10]), wrf.to_np(v_barbs[::10, ::10]), length=6, zorder=10)\n",
    "\n",
    "\n",
    "# Add the wind speed contours\n",
    "if W_WIND_CONTOURS:\n",
    "    if W_WIND_ALTITUDE > 0:\n",
    "        w_field = wrf.interplevel(wa, h, W_WIND_ALTITUDE)\n",
    "    else:\n",
    "        w_field = wa[0]\n",
    "\n",
    "    w_levels = np.linspace(-1.5,1.5,100,endpoint=True)\n",
    "    wspd_contours = bm.contourf(x, y, wrf.to_np(w_field), w_levels, cmap=\"seismic\",extend=\"both\")\n",
    "    cbar_ticks = np.linspace(-1.5,1.5,7, endpoint=True)\n",
    "    cbar = plt.colorbar(wspd_contours, ax=ax, fraction=0.046, pad=0.04, label = 'vertical wind [m s$^{-1}$]')\n",
    "    cbar.set_ticks(cbar_ticks)\n",
    "\n",
    "# Add the direction of the vertical cross-section\n",
    "if PLOT_CROSS_SECT_LINE:\n",
    "    ter_line = wrf.interpline(ter, wrfin=nc, pivot_point=pivot_point, angle=ANGLE,latlon = True, meta=True)\n",
    "    coord_pairs = wrf.to_np(ter_line.coords[\"xy_loc\"])\n",
    "    latline = [cc.lat for cc in coord_pairs]\n",
    "    lonline = [cc.lon for cc in coord_pairs]\n",
    "    xline,yline = bm(lonline,latline)\n",
    "    bm.plot(xline,yline,'-',color='fuchsia',lw=2)\n"
   ]
  },
  {
   "cell_type": "markdown",
   "metadata": {},
   "source": [
    "We will now investigate this further to see how these observations relate to the observed radar signatures and microphysical processes.\n",
    "For this, we perform a vertical cross section through the domain, passing at the research station.\\\n",
    "In the **previous** cell, choose a good angle for the cross-section direction and visualize it.\n",
    "\n",
    "In the next cell, you can activate certain variables to plot in this cross-section (set their value to ``True``).\n",
    "\n",
    ">**Question 10** Plot the wind field cross-section (wind barbs and vertical wind) and describe the pattern that you see. How does the topography influence the wind field? (relate to the previous questions)\n",
    "\n",
    "We now examine other meteorological variables. \\\n",
    "In the next cell, the *bottom* plot displays the cumulated precipitation (at ground level) along the cross-section line, during the entire event.\n",
    "\n",
    "\n",
    ">**Question 11** How is the precipitation pattern correlated with the topography?\n",
    "\n",
    "\n",
    ">**Question 12** Include the relative humidity contours in the cross-section plots. Describe and discuss; how is this consistent with the wind field, the precipitation pattern, and with the results from the first part of the exercise (radar + radiosounding, questions 4 and 5)?  What phenomenon could this correspond to? \n",
    "\n",
    "\n",
    ">**Question 12bis** Include the potential temperature contours in the cross-section plots. Describe and discuss; what does it reveal about the cause of the phenomenon?\n",
    "\n",
    "Note: feel free to remove the previously drawn contours if the figures becomes too difficult to read (set the corresponding variables to ``False``).\n",
    "\n",
    ">**Question 13** Include the \"TURB_DISS\" field (dissipation rate of turbulent kinetic energy), which reveals regions with atmospheric turbulence. Describe this cross-section and how it correlates with the vertical wind cross-section and the terrain profile.  \n",
    "\n",
    ">**Question 13bis (\\*)** Looking back at the dual-frequency radar measurements investigated earlier (Question 6), propose an explanation for how the atmospheric dynamics may contribute to the microphysics within the cloud.\n"
   ]
  },
  {
   "cell_type": "code",
   "execution_count": null,
   "metadata": {},
   "outputs": [],
   "source": [
    "WIND_BARBS = False\n",
    "W_WIND = False # Vertical wind\n",
    "POTENTIAL_TEMPERATURE = False\n",
    "RH_I = False # Relative humidity with respect to ice\n",
    "TURB_DISS = False\n",
    "\n",
    "###########################################################\n",
    "\n",
    "wspd_cross = wrf.vertcross(wa, h, wrfin=nc, pivot_point=pivot_point, angle = ANGLE, latlon=True, meta=True)\n",
    "v_cross = wrf.vertcross(va, h, wrfin=nc, pivot_point=pivot_point, angle=ANGLE, latlon=True, meta=True)\n",
    "u_cross = wrf.vertcross(ua, h, wrfin=nc, pivot_point=pivot_point, angle=ANGLE, latlon=True, meta=True)\n",
    "th_cross = wrf.vertcross(th, h, wrfin=nc, pivot_point=pivot_point, angle=ANGLE, latlon=True, meta=True)\n",
    "rhi_cross = wrf.vertcross(rh_i, h, wrfin=nc, pivot_point=pivot_point, angle=ANGLE, latlon=True, meta=True)\n",
    "ter_line = wrf.interpline(ter, wrfin=nc, pivot_point=pivot_point, angle=ANGLE,latlon = True, meta=True)\n",
    "pcum_line = wrf.interpline(pcum, wrfin=nc, pivot_point=pivot_point, angle=ANGLE,latlon=True, meta=True)\n",
    "cldfra = wrf.getvar(nc,'CLDFRA',timeidx=0)\n",
    "cldfra_cross = wrf.vertcross(cldfra, h, wrfin=nc, pivot_point=pivot_point, angle = ANGLE, latlon=True, meta=True)\n",
    "qdiss = wrf.getvar(nc, 'QDISS')[:-1]\n",
    "qdiss_cross = wrf.vertcross(qdiss, h, wrfin=nc, pivot_point=pivot_point, angle = ANGLE, latlon=True, meta=True)\n",
    "\n",
    "xs = np.arange(0, wspd_cross.shape[-1], 1)\n",
    "ys = wrf.to_np(wspd_cross.coords[\"vertical\"])\n",
    "coord_pairs = wrf.to_np(ter_line.coords[\"xy_loc\"])\n",
    "\n",
    "# Create the figure\n",
    "fig,(ax,ax1) = plt.subplots(2,figsize=(12,6),gridspec_kw={'height_ratios':[3,1]},sharex=False,constrained_layout=True)\n",
    "ncol=2\n",
    "\n",
    "# Plot the terrain profile\n",
    "ht_fill = ax.fill_between(xs, 0, wrf.to_np(ter_line), facecolor=\"gray\",hatch='//', label='terrain')\n",
    "ax.plot(xs,ter_line,'k')\n",
    "ax.plot()\n",
    "ax.vlines(64,0,6000,'k',linestyle='--',lw=3, label='Davis station')\n",
    "\n",
    "# Define the x-axis\n",
    "x_ticks = np.arange(coord_pairs.shape[0])\n",
    "x_labels = ['%.1f, %.1f'%(pair.lat,pair.lon) for pair in coord_pairs]\n",
    "num_ticks = 5\n",
    "thin = int((len(x_ticks) / num_ticks) + .5)\n",
    "ax.set_xticks(x_ticks[::thin])\n",
    "ax.set_xticklabels(x_labels[::thin])\n",
    "ax1.set_xticks(x_ticks[::thin])\n",
    "ax1.set_xticklabels(x_labels[::thin])\n",
    "ax.set_xlim(x_ticks[0], x_ticks[-1])\n",
    "ax1.set_xlim(x_ticks[0], x_ticks[-1])\n",
    "\n",
    "# Add the wind barbs\n",
    "if WIND_BARBS:\n",
    "    x_barb=10\n",
    "    y_barb=5\n",
    "    ax.barbs(xs[::x_barb],ys[::y_barb],u_cross[::y_barb,::x_barb],v_cross[::y_barb,::x_barb],zorder=10,length=6,linewidth=.75)\n",
    "\n",
    "# Make the filled contour plot of vertical wind\n",
    "if W_WIND:\n",
    "    wspd_contours = ax.contourf(xs,ys,wrf.to_np(wspd_cross), cmap=\"seismic\",levels=np.linspace(-1.5,1.5,50,endpoint=True),extend='both')\n",
    "    cbar_ticks = np.linspace(-1.5,1.5,7, endpoint=True)\n",
    "    cbar = plt.colorbar(wspd_contours, ax=ax, fraction=0.046, pad=0.04, label = 'vertical wind [m s$^{-1}$]')\n",
    "    cbar.set_ticks(cbar_ticks)\n",
    "\n",
    "\n",
    "# Contour plot of potential temperature\n",
    "if POTENTIAL_TEMPERATURE:\n",
    "    th_contours = ax.contour(xs,ys,wrf.to_np(th_cross), colors='k',levels=np.arange(200,350,2))\n",
    "    plt.clabel(th_contours, th_contours.levels[::2], inline=1, fontsize=10, fmt=\"%iK\")\n",
    "    ax.plot([-1,-1],[-1,-1], label='Pot. temp.',color='k')\n",
    "    ncol+=1\n",
    "\n",
    "def fmt(x):\n",
    "    s = f\"{x:.1f}\"\n",
    "    if s.endswith(\"0\"):\n",
    "        s = f\"{x:.0f}\"\n",
    "    return rf\"{s} \\%\" if plt.rcParams[\"text.usetex\"] else f\"{s} %\"\n",
    "\n",
    "if RH_I:\n",
    "    rhi_contours = ax.contour(xs,ys,wrf.to_np(rhi_cross), colors='g',levels=np.arange(30,120,5))\n",
    "    plt.clabel(rhi_contours, rhi_contours.levels[::2], inline=1, fontsize=10, fmt=fmt)\n",
    "    ax.plot([-1,-1],[-1,-1], label='RH w.r.t.  ice',color='g')\n",
    "    ncol+=1\n",
    "\n",
    "\n",
    "if TURB_DISS:\n",
    "    qdiss_contours = ax.contour(xs,ys,wrf.to_np(qdiss_cross), colors='magenta',levels=np.logspace(-5,2,14,endpoint=True),extend='both',norm=colors.LogNorm())\n",
    "    plt.clabel(qdiss_contours, qdiss_contours.levels[::2], inline=1, fontsize=10, fmt=\"%.0E\")\n",
    "    ax.plot([-1,-1],[-1,-1], label='turb. diss.',color='magenta')\n",
    "    ncol+=1\n",
    "\n",
    "ax.legend(bbox_to_anchor=(1,1), loc='lower right',ncol=ncol)\n",
    "\n",
    "ax.set_ylim(0,6000)\n",
    "ax1.bar(xs,pcum_line)\n",
    "ax1.set_title('Cumulated precipitation (08/01 - 10/01)')\n",
    "ax1.set_ylabel('[mm]')"
   ]
  },
  {
   "cell_type": "code",
   "execution_count": null,
   "metadata": {},
   "outputs": [],
   "source": []
  },
  {
   "cell_type": "code",
   "execution_count": null,
   "metadata": {},
   "outputs": [],
   "source": []
  },
  {
   "cell_type": "code",
   "execution_count": null,
   "metadata": {},
   "outputs": [],
   "source": [
    "### Below are a few tests - can be useful if we want to do some Froude number calculations (TO DO remove or add question)"
   ]
  },
  {
   "cell_type": "code",
   "execution_count": null,
   "metadata": {},
   "outputs": [],
   "source": [
    "th_davis = th[:,51,51]\n",
    "h_davis = h[:,51,51]\n",
    "dth_dz = (th_davis[1:]-th_davis[:-1])/(h_davis[1:]-h_davis[:-1])\n",
    "g = 9.81\n",
    "NBV = np.sqrt(g/(.5*(th_davis[1:]+th_davis[:-1])) * dth_dz)"
   ]
  },
  {
   "cell_type": "code",
   "execution_count": null,
   "metadata": {},
   "outputs": [],
   "source": [
    "plt.plot(ter_line)\n",
    "plt.vlines(38,0,400)\n",
    "plt.vlines(74,0,400)"
   ]
  },
  {
   "cell_type": "code",
   "execution_count": null,
   "metadata": {},
   "outputs": [],
   "source": [
    "# plt.plot(dth_dz,h_davis[1:])\n",
    "plt.plot(th_davis,h_davis[:])\n",
    "plt.ylim(0,2000)\n",
    "# plt.xlim(0,0.01)\n",
    "plt.xlim(270,300)"
   ]
  },
  {
   "cell_type": "code",
   "execution_count": null,
   "metadata": {},
   "outputs": [],
   "source": [
    "wspd_davis = np.sqrt(ua[:,51,51]**2+va[:,51,51]**2)"
   ]
  },
  {
   "cell_type": "code",
   "execution_count": null,
   "metadata": {},
   "outputs": [],
   "source": [
    "plt.plot(wspd_davis,h_davis)"
   ]
  },
  {
   "cell_type": "code",
   "execution_count": null,
   "metadata": {},
   "outputs": [],
   "source": [
    "Froude = .5*(wspd_davis[1:]+wspd_davis[:-1])/(NBV*500)"
   ]
  },
  {
   "cell_type": "code",
   "execution_count": null,
   "metadata": {},
   "outputs": [],
   "source": [
    "plt.plot(Froude, h_davis[1:])"
   ]
  },
  {
   "cell_type": "code",
   "execution_count": null,
   "metadata": {},
   "outputs": [],
   "source": [
    "N0 = 0.01\n",
    "DTHDZ = 0.002\n",
    "TH = 280\n",
    "N = np.sqrt(g/TH*DTHDZ)\n",
    "U = 50\n",
    "H = 500\n",
    "L = 65000/2\n",
    "\n",
    "FL = U/(N*L)\n",
    "FH = U/(N*H)\n",
    "\n",
    "print('FL = ', FL, 'FH =', FH)"
   ]
  },
  {
   "cell_type": "code",
   "execution_count": null,
   "metadata": {},
   "outputs": [],
   "source": [
    "N"
   ]
  },
  {
   "cell_type": "code",
   "execution_count": null,
   "metadata": {},
   "outputs": [],
   "source": []
  }
 ],
 "metadata": {
  "kernelspec": {
   "display_name": "acbr",
   "language": "python",
   "name": "python3"
  },
  "language_info": {
   "codemirror_mode": {
    "name": "ipython",
    "version": 3
   },
   "file_extension": ".py",
   "mimetype": "text/x-python",
   "name": "python",
   "nbconvert_exporter": "python",
   "pygments_lexer": "ipython3",
   "version": "3.9.13"
  }
 },
 "nbformat": 4,
 "nbformat_minor": 2
}
